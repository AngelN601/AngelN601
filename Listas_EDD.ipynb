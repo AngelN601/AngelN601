{
  "nbformat": 4,
  "nbformat_minor": 0,
  "metadata": {
    "colab": {
      "name": "Listas_EDD.ipynb",
      "provenance": [],
      "authorship_tag": "ABX9TyOAIVCiNcAqrvtfnXHWwxSy",
      "include_colab_link": true
    },
    "kernelspec": {
      "name": "python3",
      "display_name": "Python 3"
    },
    "language_info": {
      "name": "python"
    }
  },
  "cells": [
    {
      "cell_type": "markdown",
      "metadata": {
        "id": "view-in-github",
        "colab_type": "text"
      },
      "source": [
        "<a href=\"https://colab.research.google.com/github/AngelN601/AngelN601/blob/main/Listas_EDD.ipynb\" target=\"_parent\"><img src=\"https://colab.research.google.com/assets/colab-badge.svg\" alt=\"Open In Colab\"/></a>"
      ]
    },
    {
      "cell_type": "code",
      "metadata": {
        "id": "yN8F1560R5RZ"
      },
      "source": [
        "class Nodo:\n",
        "  def __init__(self , value , sigueinte=None):\n",
        "    self.data = value\n",
        "    self.next = sigueinte\n",
        "    "
      ],
      "execution_count": 10,
      "outputs": []
    },
    {
      "cell_type": "code",
      "metadata": {
        "colab": {
          "base_uri": "https://localhost:8080/"
        },
        "id": "8nI4PEtIThRt",
        "outputId": "b119f7cf-c103-482b-a021-9aa7765db37e"
      },
      "source": [
        "head = Nodo(30)\n",
        "print(head.data)\n",
        "print(head.next)\n",
        "\n",
        "head2 = Nodo(20)\n",
        "head2.next = Nodo(15)\n",
        "print(head2.next.data)\n",
        "print(head2.data)"
      ],
      "execution_count": 11,
      "outputs": [
        {
          "output_type": "stream",
          "name": "stdout",
          "text": [
            "30\n",
            "None\n",
            "15\n",
            "20\n"
          ]
        }
      ]
    },
    {
      "cell_type": "code",
      "metadata": {
        "colab": {
          "base_uri": "https://localhost:8080/"
        },
        "id": "dIFzT9MsYVAm",
        "outputId": "a855824e-0ee8-4123-82e1-f879366f8cab"
      },
      "source": [
        "punto_entrada = Nodo(20)\n",
        "punto_entrada.next = Nodo(15)\n",
        "print(punto_entrada.next.data)\n",
        "print(punto_entrada.next.next)\n",
        "\n",
        "\n",
        "print(punto_entrada.data)\n",
        "#print(punto_entrada.next)\n",
        "print(punto_entrada.next.data)\n",
        "#print(punto_entrada.next.next)\n",
        "\n",
        "print(\"Hacer lo mismo pero con el segundo metodo\")\n",
        "\n",
        "punto_entrada = Nodo(20, Nodo(15) )\n",
        "\n",
        "print(punto_entrada.data)\n",
        "print(punto_entrada.next.data)"
      ],
      "execution_count": 15,
      "outputs": [
        {
          "output_type": "stream",
          "name": "stdout",
          "text": [
            "15\n",
            "None\n",
            "20\n",
            "15\n",
            "Hacer lo mismo pero con el segundo metodo\n",
            "20\n",
            "15\n"
          ]
        }
      ]
    }
  ]
}