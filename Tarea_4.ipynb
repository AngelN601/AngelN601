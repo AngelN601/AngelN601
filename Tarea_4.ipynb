{
  "nbformat": 4,
  "nbformat_minor": 0,
  "metadata": {
    "colab": {
      "name": "Tarea_4.ipynb",
      "provenance": [],
      "collapsed_sections": [],
      "authorship_tag": "ABX9TyMMLBq5sUFJSsiOuomGOAXg",
      "include_colab_link": true
    },
    "kernelspec": {
      "name": "python3",
      "display_name": "Python 3"
    },
    "language_info": {
      "name": "python"
    }
  },
  "cells": [
    {
      "cell_type": "markdown",
      "metadata": {
        "id": "view-in-github",
        "colab_type": "text"
      },
      "source": [
        "<a href=\"https://colab.research.google.com/github/AngelN601/AngelN601/blob/main/Tarea_4.ipynb\" target=\"_parent\"><img src=\"https://colab.research.google.com/assets/colab-badge.svg\" alt=\"Open In Colab\"/></a>"
      ]
    },
    {
      "cell_type": "code",
      "metadata": {
        "id": "hwFEgt41H2wE"
      },
      "source": [
        "\"\"\"\n",
        "ADT Array.\n",
        "ilysou df us uisdf ksdhf ksf\n",
        "sdkufh dsufhsd\n",
        "sdjkfhkds f\n",
        "sd ifhsdlhf \n",
        "\"\"\"\n",
        "\n",
        "class Array():\n",
        "  def __init__(self, tamano):\n",
        "    self.__tamano = tamano\n",
        "    self.__data = [0 for x in range(self.__tamano)]  #generator\n",
        "\n",
        "  def get_item( self , index ):\n",
        "    return self.__data[index]\n",
        "\n",
        "  def to_string(self):\n",
        "    print(self.__data)\n",
        "\n",
        "  def set_item(self, index , valor):\n",
        "    if self.__check_limits__(index):\n",
        "      self.__data[index]= valor\n",
        "    else:\n",
        "      raise Exception('Error de limites en index')\n",
        "\n",
        "  def clear(self, valor):\n",
        "    self.__data= [valor for x in range(self.__tamano)]\n",
        "\n",
        "  def get_length( self ):\n",
        "    return self.__tamano\n",
        "\n",
        "  def __check_limits__(self, index ):\n",
        "    return index >=0 and index < self.__tamano\n",
        "    "
      ],
      "execution_count": 1,
      "outputs": []
    },
    {
      "cell_type": "code",
      "metadata": {
        "id": "wkeMfAlFN5k1",
        "colab": {
          "base_uri": "https://localhost:8080/"
        },
        "outputId": "e0e8d45b-aa69-4990-9505-3fd97d20e064"
      },
      "source": [
        "ejemplo = Array(5)\n",
        "ejemplo.to_string()\n",
        "ejemplo.get_item(3)\n",
        "\n"
      ],
      "execution_count": 102,
      "outputs": [
        {
          "output_type": "stream",
          "name": "stdout",
          "text": [
            "[0, 0, 0, 0, 0]\n"
          ]
        },
        {
          "output_type": "execute_result",
          "data": {
            "text/plain": [
              "0"
            ]
          },
          "metadata": {},
          "execution_count": 102
        }
      ]
    },
    {
      "cell_type": "code",
      "metadata": {
        "id": "b5FN6AFTRRqk",
        "colab": {
          "base_uri": "https://localhost:8080/"
        },
        "outputId": "f8f5e09c-92cd-4568-d6ce-3e80ea6b7362"
      },
      "source": [
        "lista = Array(10)\n",
        "\n",
        "lista.set_item( 0 , 33) \n",
        "lista.set_item( 1 , 3) \n",
        "lista.set_item( 2 , 88) \n",
        "lista.set_item( 3 , 42) \n",
        "lista.set_item( 4 , 12) \n",
        "lista.set_item( 5 , 28) \n",
        "lista.set_item( 6 , 14) \n",
        "lista.set_item( 7 , 100) \n",
        "lista.set_item( 8 , 1) \n",
        "lista.set_item( 9 , 60) \n",
        "\n",
        "for indice in range(lista.get_length() ):\n",
        "  print(lista.get_item(indice) )\n",
        "\n",
        "#lista.clear(-1)\n",
        "\n",
        "for indice in range( lista.get_length() ):\n",
        "  print(lista.get_item( indice ))"
      ],
      "execution_count": 3,
      "outputs": [
        {
          "output_type": "stream",
          "name": "stdout",
          "text": [
            "33\n",
            "3\n",
            "88\n",
            "42\n",
            "12\n",
            "28\n",
            "14\n",
            "100\n",
            "1\n",
            "60\n",
            "33\n",
            "3\n",
            "88\n",
            "42\n",
            "12\n",
            "28\n",
            "14\n",
            "100\n",
            "1\n",
            "60\n"
          ]
        }
      ]
    },
    {
      "cell_type": "markdown",
      "metadata": {
        "id": "yIp7sl8bWeDt"
      },
      "source": [
        "#Métodos de búsqueda y ordenamiento.\n",
        "\n",
        "\n",
        "Busqieda lineal.\n",
        "- De el recorrido desde la posicion 0 hasta la posición n-1 buscado un valor dado por el usuario.\n",
        "\n",
        "- Es un algoritmo simple pero ineficiente.\n",
        "\n",
        "- No se sabe la complejidad porque depende de los datos internos."
      ]
    },
    {
      "cell_type": "code",
      "metadata": {
        "id": "zjb9bg7yWpFW",
        "colab": {
          "base_uri": "https://localhost:8080/"
        },
        "outputId": "83891e90-b3c5-4748-a7ae-6f2b35d85200"
      },
      "source": [
        "valor_a_buscar = int (input(\"Que valor quieres buscar? \"))\n",
        "encontrado = False\n",
        "for indice in range( lista.get_length() ):\n",
        "  if valor_a_buscar == lista.get_item(indice):\n",
        "    print(\"El elemento se encuentra en la posición:\", indice)\n",
        "    encontrado = True\n",
        "    break\n",
        "\n",
        "if encontrado:\n",
        "  print(\"El elemento si existe en el arreglo\")\n",
        "else:\n",
        "  print(\"El elemento no esta en el arreglo\")"
      ],
      "execution_count": 4,
      "outputs": [
        {
          "output_type": "stream",
          "name": "stdout",
          "text": [
            "Que valor quieres buscar? 444\n",
            "El elemento no esta en el arreglo\n"
          ]
        }
      ]
    },
    {
      "cell_type": "markdown",
      "metadata": {
        "id": "IakUDPhObOJm"
      },
      "source": [
        "# Método de la burbuja"
      ]
    },
    {
      "cell_type": "code",
      "metadata": {
        "colab": {
          "base_uri": "https://localhost:8080/"
        },
        "id": "Hrs0hrbpudUP",
        "outputId": "44e9ce11-f2d6-49b4-a1af-2c985863af13"
      },
      "source": [
        "!ls ./sample_data/"
      ],
      "execution_count": 5,
      "outputs": [
        {
          "output_type": "stream",
          "name": "stdout",
          "text": [
            "anscombe.json\t\t      mnist_test.csv\n",
            "california_housing_test.csv   mnist_train_small.csv\n",
            "california_housing_train.csv  README.md\n"
          ]
        }
      ]
    },
    {
      "cell_type": "code",
      "metadata": {
        "id": "f0h-0_Orvgv2"
      },
      "source": [
        "from google.colab import drive\n",
        "drive.mount('/content/drive')"
      ],
      "execution_count": null,
      "outputs": []
    },
    {
      "cell_type": "code",
      "metadata": {
        "colab": {
          "base_uri": "https://localhost:8080/"
        },
        "id": "ycFRsgjlvt5J",
        "outputId": "a6cc4265-7dff-4d9f-d4d0-c771452bd784"
      },
      "source": [
        "!cat junio.dat"
      ],
      "execution_count": 7,
      "outputs": [
        {
          "output_type": "stream",
          "name": "stdout",
          "text": [
            "numero de trabajador, nombres, paterno, materno, horas extra, sueldo base, año de ingreso\r\n",
            "2345,CARLOS,PEREZ,CASTILLO,0,9850,2017\r\n",
            "5754,ANGEL,GOMEZ,GARRIDO,1,9850,2020\r\n",
            "5345,JESUS,MARTIN,SANTOS,2,9850,2016\r\n",
            "3267,DAVID,JIMENEZ,LOZANO,2,9850,2017\r\n",
            "8765,PEDRO,RUIZ,GUERRERO,2,9850,2017\r\n",
            "5454,DANIEL,HERNANDEZ,CANO,3,9850,2018\r\n",
            "3456,ALEJANDRO,DIAZ,PRIETO,2,9850,2018\r\n",
            "3445,MARIA,MORENO,MENDEZ,1,9850,2018\r\n",
            "9088,ALBERTO,MU�OZ,CRUZ,1,9850,2017\r\n",
            "8877,RAFAEL,ALVAREZ,FLORES,2,9850,2017\r\n",
            "6767,FERNANDO,ROMERO,HERRERA,4,9850,2019\r\n",
            "5654,PABLO,ALONSO,GALLEGO,1,9850,2019\r\n",
            "4323,JORGE,GUTIERREZ,MARQUEZ,2,9850,2020\r\n",
            "2232,RAMON,NAVARRO,LEON,1,9850,2016"
          ]
        }
      ]
    },
    {
      "cell_type": "code",
      "metadata": {
        "colab": {
          "base_uri": "https://localhost:8080/"
        },
        "id": "tobbRtt3wnYp",
        "outputId": "fcf3aa9a-1568-4c39-f092-abcfc6b94ef5"
      },
      "source": [
        "#Hacerlo 3 veces sin ver\n",
        "archivo = open('junio.dat','rt', encoding='latin-1') #\n",
        "print( archivo.read() )\n",
        "\n",
        "\"\"\"\n",
        "read() --> Lee todo el archivo y lo regresa como un solo String(str)\n",
        "readline() --> Lee la siguiente linea hasta el siguiente salto de linea (\\n)\n",
        "readlines() --> Lee todo el archivo lo separa por lineas y el resultado lo mete en un list de python\n",
        "\n",
        "\"\"\"\n",
        "print(\"Probando readline\")\n",
        "archivo2 = open('junio.dat','rt',encoding='latin-1')\n",
        "print( archivo2.readline() )\n",
        "print( archivo2.readline() )\n",
        "print( archivo2.readline() )\n",
        "\n",
        "archivo3 = open('junio.dat','rt',encoding='latin-1')\n",
        "print(\"Probando readlines() \")\n",
        "#print( archivo3.readlines())\n",
        "info = archivo3.readlines()\n",
        "\n",
        "for index in range( len(info) ):\n",
        "  info[index] = info[index].rstrip('\\n').split(',')\n",
        "  print(info[index])\n",
        "\n",
        "print(info)\n",
        "print(\"Sueldos\")\n",
        "for trab in info:\n",
        "  print(trab[6])"
      ],
      "execution_count": 116,
      "outputs": [
        {
          "output_type": "stream",
          "name": "stdout",
          "text": [
            "numero de trabajador, nombres, paterno, materno, horas extra, sueldo base, aÃ±o de ingreso\n",
            "2345,CARLOS,PEREZ,CASTILLO,0,9850,2017\n",
            "5754,ANGEL,GOMEZ,GARRIDO,1,9850,2020\n",
            "5345,JESUS,MARTIN,SANTOS,2,9850,2016\n",
            "3267,DAVID,JIMENEZ,LOZANO,2,9850,2017\n",
            "8765,PEDRO,RUIZ,GUERRERO,2,9850,2017\n",
            "5454,DANIEL,HERNANDEZ,CANO,3,9850,2018\n",
            "3456,ALEJANDRO,DIAZ,PRIETO,2,9850,2018\n",
            "3445,MARIA,MORENO,MENDEZ,1,9850,2018\n",
            "9088,ALBERTO,MUOZ,CRUZ,1,9850,2017\n",
            "8877,RAFAEL,ALVAREZ,FLORES,2,9850,2017\n",
            "6767,FERNANDO,ROMERO,HERRERA,4,9850,2019\n",
            "5654,PABLO,ALONSO,GALLEGO,1,9850,2019\n",
            "4323,JORGE,GUTIERREZ,MARQUEZ,2,9850,2020\n",
            "2232,RAMON,NAVARRO,LEON,1,9850,2016\n",
            "Probando readline\n",
            "numero de trabajador, nombres, paterno, materno, horas extra, sueldo base, aÃ±o de ingreso\n",
            "\n",
            "2345,CARLOS,PEREZ,CASTILLO,0,9850,2017\n",
            "\n",
            "5754,ANGEL,GOMEZ,GARRIDO,1,9850,2020\n",
            "\n",
            "Probando readlines() \n",
            "['numero de trabajador', ' nombres', ' paterno', ' materno', ' horas extra', ' sueldo base', ' aÃ±o de ingreso']\n",
            "['2345', 'CARLOS', 'PEREZ', 'CASTILLO', '0', '9850', '2017']\n",
            "['5754', 'ANGEL', 'GOMEZ', 'GARRIDO', '1', '9850', '2020']\n",
            "['5345', 'JESUS', 'MARTIN', 'SANTOS', '2', '9850', '2016']\n",
            "['3267', 'DAVID', 'JIMENEZ', 'LOZANO', '2', '9850', '2017']\n",
            "['8765', 'PEDRO', 'RUIZ', 'GUERRERO', '2', '9850', '2017']\n",
            "['5454', 'DANIEL', 'HERNANDEZ', 'CANO', '3', '9850', '2018']\n",
            "['3456', 'ALEJANDRO', 'DIAZ', 'PRIETO', '2', '9850', '2018']\n",
            "['3445', 'MARIA', 'MORENO', 'MENDEZ', '1', '9850', '2018']\n",
            "['9088', 'ALBERTO', 'MU\\x84OZ', 'CRUZ', '1', '9850', '2017']\n",
            "['8877', 'RAFAEL', 'ALVAREZ', 'FLORES', '2', '9850', '2017']\n",
            "['6767', 'FERNANDO', 'ROMERO', 'HERRERA', '4', '9850', '2019']\n",
            "['5654', 'PABLO', 'ALONSO', 'GALLEGO', '1', '9850', '2019']\n",
            "['4323', 'JORGE', 'GUTIERREZ', 'MARQUEZ', '2', '9850', '2020']\n",
            "['2232', 'RAMON', 'NAVARRO', 'LEON', '1', '9850', '2016']\n",
            "[['numero de trabajador', ' nombres', ' paterno', ' materno', ' horas extra', ' sueldo base', ' aÃ±o de ingreso'], ['2345', 'CARLOS', 'PEREZ', 'CASTILLO', '0', '9850', '2017'], ['5754', 'ANGEL', 'GOMEZ', 'GARRIDO', '1', '9850', '2020'], ['5345', 'JESUS', 'MARTIN', 'SANTOS', '2', '9850', '2016'], ['3267', 'DAVID', 'JIMENEZ', 'LOZANO', '2', '9850', '2017'], ['8765', 'PEDRO', 'RUIZ', 'GUERRERO', '2', '9850', '2017'], ['5454', 'DANIEL', 'HERNANDEZ', 'CANO', '3', '9850', '2018'], ['3456', 'ALEJANDRO', 'DIAZ', 'PRIETO', '2', '9850', '2018'], ['3445', 'MARIA', 'MORENO', 'MENDEZ', '1', '9850', '2018'], ['9088', 'ALBERTO', 'MU\\x84OZ', 'CRUZ', '1', '9850', '2017'], ['8877', 'RAFAEL', 'ALVAREZ', 'FLORES', '2', '9850', '2017'], ['6767', 'FERNANDO', 'ROMERO', 'HERRERA', '4', '9850', '2019'], ['5654', 'PABLO', 'ALONSO', 'GALLEGO', '1', '9850', '2019'], ['4323', 'JORGE', 'GUTIERREZ', 'MARQUEZ', '2', '9850', '2020'], ['2232', 'RAMON', 'NAVARRO', 'LEON', '1', '9850', '2016']]\n",
            "Sueldos\n",
            " aÃ±o de ingreso\n",
            "2017\n",
            "2020\n",
            "2016\n",
            "2017\n",
            "2017\n",
            "2018\n",
            "2018\n",
            "2018\n",
            "2017\n",
            "2017\n",
            "2019\n",
            "2019\n",
            "2020\n",
            "2016\n"
          ]
        }
      ]
    },
    {
      "cell_type": "code",
      "metadata": {
        "id": "0hlbq3ki5KWA"
      },
      "source": [
        "class Trabajador:\n",
        "  def __init_( self , nt , nom , pat , mat , h_extra , sueldo , anio_ingreso):\n",
        "    self.num_trabajador = nt\n",
        "    self.nombre = nom\n",
        "    self.paterno = pat\n",
        "    self.materno = mat\n",
        "    self.horas_extra = h_extra\n",
        "    self.seldo = sueldo\n",
        "    self.anio_ingreso = anio_ingreso\n",
        "\n",
        "  def __to_string__(self) -> str:\n",
        "    return f\"{self.num_trabajador}, {self.nombre}, {self.paterno}, {self.materno}, {self.horas_extra}, {self.sueldo}, {self.anio_ingreso}\"\n",
        "\n",
        "  def set_num_trabajador( self , nt):\n",
        "    self.num_trabajador = nt\n",
        "  def get_num_trabajador(self):\n",
        "    return self.num_trabajador\n",
        "\n",
        "  def set_nombre(self, nom):\n",
        "    self.nombre = nom\n",
        "  def get_nombre(self):\n",
        "    return self.nombre\n",
        "\n",
        "  def set_paterno(self, pat):\n",
        "    self.paterno = pat\n",
        "  def get_paterno(self):\n",
        "    return self.paterno\n",
        "\n",
        "  def set_materno(self, mat):\n",
        "    self.materno = mat\n",
        "  def get_materno(self):\n",
        "    return self.materno\n",
        "\n",
        "  def set_horas_extra(self, h_extra):\n",
        "    self.horas_extra = h_extra\n",
        "  def get_horas_extra(self):\n",
        "    return self.horas_extra\n",
        "\n",
        "  def set_sueldo(self, sueldo):\n",
        "    self.sueldo = sueldo\n",
        "  def get_sueldo(self):\n",
        "    return self.sueldo\n",
        "\n",
        "  def set_anio_ingreso(self, anio_ingreso):\n",
        "    self.anio_ingreso = anio_ingreso\n",
        "  def get_anio_ingreso(self):\n",
        "    return self.anio_ingreso\n",
        "\n",
        "\n",
        "trabajador1 = Trabajador()\n",
        "trabajador1.set_num_trabajador(info[1][0])\n",
        "trabajador1.set_nombre(info[1][1])\n",
        "trabajador1.set_paterno(info[1][2])\n",
        "trabajador1.set_materno(info[1][3])\n",
        "trabajador1.set_horas_extra(info[1][4])\n",
        "trabajador1.set_sueldo(info[1][5])\n",
        "trabajador1.set_anio_ingreso(info[1][6])\n",
        "\n",
        "trabajador2 = Trabajador()\n",
        "trabajador2.set_num_trabajador(info[2][0])\n",
        "trabajador2.set_nombre(info[2][1])\n",
        "trabajador2.set_paterno(info[2][2])\n",
        "trabajador2.set_materno(info[2][3])\n",
        "trabajador2.set_horas_extra(info[2][4])\n",
        "trabajador2.set_sueldo(info[2][5])\n",
        "trabajador2.set_anio_ingreso(info[2][6])\n",
        "\n",
        "trabajador3 = Trabajador()\n",
        "trabajador3.set_num_trabajador(info[3][0])\n",
        "trabajador3.set_nombre(info[3][1])\n",
        "trabajador3.set_paterno(info[3][2])\n",
        "trabajador3.set_materno(info[3][3])\n",
        "trabajador3.set_horas_extra(info[3][4])\n",
        "trabajador3.set_sueldo(info[3][5])\n",
        "trabajador3.set_anio_ingreso(info[3][6])\n",
        "\n",
        "trabajador4 = Trabajador()\n",
        "trabajador4.set_num_trabajador(info[4][0])\n",
        "trabajador4.set_nombre(info[4][1])\n",
        "trabajador4.set_paterno(info[4][2])\n",
        "trabajador4.set_materno(info[4][3])\n",
        "trabajador4.set_horas_extra(info[4][4])\n",
        "trabajador4.set_sueldo(info[4][5])\n",
        "trabajador4.set_anio_ingreso(info[4][6])\n",
        "\n",
        "trabajador5 = Trabajador()\n",
        "trabajador5.set_num_trabajador(info[5][0])\n",
        "trabajador5.set_nombre(info[5][1])\n",
        "trabajador5.set_paterno(info[5][2])\n",
        "trabajador5.set_materno(info[5][3])\n",
        "trabajador5.set_horas_extra(info[5][4])\n",
        "trabajador5.set_sueldo(info[5][5])\n",
        "trabajador5.set_anio_ingreso(info[5][6])\n",
        "\n",
        "trabajador6 = Trabajador()\n",
        "trabajador6.set_num_trabajador(info[6][0])\n",
        "trabajador6.set_nombre(info[6][1])\n",
        "trabajador6.set_paterno(info[6][2])\n",
        "trabajador6.set_materno(info[6][3])\n",
        "trabajador6.set_horas_extra(info[6][4])\n",
        "trabajador6.set_sueldo(info[6][5])\n",
        "trabajador6.set_anio_ingreso(info[6][6])\n",
        "\n",
        "trabajador7 = Trabajador()\n",
        "trabajador7.set_num_trabajador(info[7][0])\n",
        "trabajador7.set_nombre(info[7][1])\n",
        "trabajador7.set_paterno(info[7][2])\n",
        "trabajador7.set_materno(info[7][3])\n",
        "trabajador7.set_horas_extra(info[7][4])\n",
        "trabajador7.set_sueldo(info[7][5])\n",
        "trabajador7.set_anio_ingreso(info[7][6])\n",
        "\n",
        "trabajador8 = Trabajador()\n",
        "trabajador8.set_num_trabajador(info[8][0])\n",
        "trabajador8.set_nombre(info[8][1])\n",
        "trabajador8.set_paterno(info[8][2])\n",
        "trabajador8.set_materno(info[8][3])\n",
        "trabajador8.set_horas_extra(info[8][4])\n",
        "trabajador8.set_sueldo(info[8][5])\n",
        "trabajador8.set_anio_ingreso(info[8][6])\n",
        "\n",
        "trabajador9 = Trabajador()\n",
        "trabajador9.set_num_trabajador(info[9][0])\n",
        "trabajador9.set_nombre(info[9][1])\n",
        "trabajador9.set_paterno(info[9][2])\n",
        "trabajador9.set_materno(info[9][3])\n",
        "trabajador9.set_horas_extra(info[9][4])\n",
        "trabajador9.set_sueldo(info[9][5])\n",
        "trabajador9.set_anio_ingreso(info[9][6])\n",
        "\n",
        "trabajador10 = Trabajador()\n",
        "trabajador10.set_num_trabajador(info[10][0])\n",
        "trabajador10.set_nombre(info[10][1])\n",
        "trabajador10.set_paterno(info[10][2])\n",
        "trabajador10.set_materno(info[10][3])\n",
        "trabajador10.set_horas_extra(info[10][4])\n",
        "trabajador10.set_sueldo(info[10][5])\n",
        "trabajador10.set_anio_ingreso(info[10][6])\n",
        "\n",
        "trabajador11 = Trabajador()\n",
        "trabajador11.set_num_trabajador(info[11][0])\n",
        "trabajador11.set_nombre(info[11][1])\n",
        "trabajador11.set_paterno(info[11][2])\n",
        "trabajador11.set_materno(info[11][3])\n",
        "trabajador11.set_horas_extra(info[11][4])\n",
        "trabajador11.set_sueldo(info[11][5])\n",
        "trabajador11.set_anio_ingreso(info[11][6])\n",
        "\n",
        "trabajador12 = Trabajador()\n",
        "trabajador12.set_num_trabajador(info[12][0])\n",
        "trabajador12.set_nombre(info[12][1])\n",
        "trabajador12.set_paterno(info[12][2])\n",
        "trabajador12.set_materno(info[12][3])\n",
        "trabajador12.set_horas_extra(info[12][4])\n",
        "trabajador12.set_sueldo(info[12][5])\n",
        "trabajador12.set_anio_ingreso(info[12][6])\n",
        "\n",
        "trabajador13 = Trabajador()\n",
        "trabajador13.set_num_trabajador(info[13][0])\n",
        "trabajador13.set_nombre(info[13][1])\n",
        "trabajador13.set_paterno(info[13][2])\n",
        "trabajador13.set_materno(info[13][3])\n",
        "trabajador13.set_horas_extra(info[13][4])\n",
        "trabajador13.set_sueldo(info[13][5])\n",
        "trabajador13.set_anio_ingreso(info[13][6])\n",
        "\n",
        "trabajador14 = Trabajador()\n",
        "trabajador14.set_num_trabajador(info[14][0])\n",
        "trabajador14.set_nombre(info[14][1])\n",
        "trabajador14.set_paterno(info[14][2])\n",
        "trabajador14.set_materno(info[14][3])\n",
        "trabajador14.set_horas_extra(info[14][4])\n",
        "trabajador14.set_sueldo(info[14][5])\n",
        "trabajador14.set_anio_ingreso(info[14][6])\n"
      ],
      "execution_count": 111,
      "outputs": []
    },
    {
      "cell_type": "code",
      "metadata": {
        "id": "TXmHJuAa62ga"
      },
      "source": [
        "class Empresa:  \n",
        "  def __init__(self):\n",
        "    for n in range (len(info)):\n",
        "      print(f\"El trabajador {n} tiene estos datos: {trabajador1} \")\n",
        "      trabajador1 = trabajador(n)\n",
        "\n",
        "\n",
        "    self.empleados = Array(14)\n",
        "    for i in range (13):\n",
        "     empleados.append[i](trabajador(i))\n",
        "\n",
        "  def calcular_sueldos(self):\n",
        "    print(trabajador1.get_sueldo * (2021 - trabajador1.get_anio_ingreso), (trabajador1.get_horas_extra * 276.5))\n",
        "    print(trabajador2.get_sueldo * (2021 - trabajador2.get_anio_ingreso), (trabajador2.get_horas_extra * 276.5))\n",
        "    print(trabajador3.get_sueldo * (2021 - trabajador3.get_anio_ingreso), (trabajador3.get_horas_extra * 276.5))\n",
        "    print(trabajador4.get_sueldo * (2021 - trabajador4.get_anio_ingreso), (trabajador4.get_horas_extra * 276.5))\n",
        "    print(trabajador5.get_sueldo * (2021 - trabajador5.get_anio_ingreso), (trabajador5.get_horas_extra * 276.5))\n",
        "    print(trabajador6.get_sueldo * (2021 - trabajador6.get_anio_ingreso), (trabajador6.get_horas_extra * 276.5))\n",
        "    print(trabajador7.get_sueldo * (2021 - trabajador7.get_anio_ingreso), (trabajador7.get_horas_extra * 276.5))\n",
        "    print(trabajador8.get_sueldo * (2021 - trabajador8.get_anio_ingreso), (trabajador8.get_horas_extra * 276.5))\n",
        "    print(trabajador9.get_sueldo * (2021 - trabajador9.get_anio_ingreso), (trabajador9.get_horas_extra * 276.5))\n",
        "    print(trabajador10.get_sueldo * (2021 - trabajador10.get_anio_ingreso), (trabajador10.get_horas_extra * 276.5))\n",
        "    print(trabajador11.get_sueldo * (2021 - trabajador11.get_anio_ingreso), (trabajador11.get_horas_extra * 276.5))\n",
        "    print(trabajador12.get_sueldo * (2021 - trabajador12.get_anio_ingreso), (trabajador12.get_horas_extra * 276.5))\n",
        "    print(trabajador13.get_sueldo * (2021 - trabajador13.get_anio_ingreso), (trabajador13.get_horas_extra * 276.5))\n",
        "    print(trabajador14.get_sueldo * (2021 - trabajador14.get_anio_ingreso), (trabajador14.get_horas_extra * 276.5))\n",
        "\n",
        "\n",
        "  def encontrar_mayor_ant(self): \n",
        "    \n",
        "    for trab in info:\n",
        "      print(\"El que lleva menos tiempo con \", max(trab[6]), \"años, es: \", trab[6].index( max(trab[6])) )\n",
        "\n",
        "    for trab in info:\n",
        "      print(\"El que lleva más tiempo con \", min(trab[6]), \"años, es: \", trab[6].index( min(trab[6])) )"
      ],
      "execution_count": 119,
      "outputs": []
    }
  ]
}