{
  "nbformat": 4,
  "nbformat_minor": 0,
  "metadata": {
    "colab": {
      "provenance": [],
      "authorship_tag": "ABX9TyPPTOKL5iImSfWMqGoabaNs"
    },
    "kernelspec": {
      "name": "python3",
      "display_name": "Python 3"
    },
    "language_info": {
      "name": "python"
    }
  },
  "cells": [
    {
      "cell_type": "code",
      "source": [
        "\"\"\"\n",
        "\n",
        "PROYECTO FINAL\n",
        "\n",
        "Integrantes del Equipo:\n",
        "-Castro Garcia Ivan\n",
        "-Delabra Perez Xiomara Adamari\n",
        "-Garcia Trejo Sebastian\n",
        "-Gonzalez Mireles Angel Brayan\n",
        "\n",
        "\"\"\"\n",
        "\n",
        "\n",
        "\n",
        "\n",
        "import random\n",
        "\n",
        "# Digitos del 1 al 8*\n",
        "digitos = ('0','1','2','3','4','5','6','7','8')\n",
        "\n",
        "# Damos la cantidad de Digitos\n",
        "cant_digitos = 4\n",
        "codigo = ''\n",
        "for i in range(cant_digitos):\n",
        "    candidato = random.choice(digitos)\n",
        "    codigo = codigo + candidato\n",
        "    #Para que no tenga repeticion sería este codigo:\n",
        "    \"\"\"\n",
        "    while candidato in codigo:\n",
        "        candidato = random.choice(digitos)\n",
        "    codigo = codigo + candidato\"\"\"\n",
        "\n",
        "# Inicia la Interaccion\n",
        "print(\"Bienvenido/a al juego!\")\n",
        "print(\"Tienes que adivinar un numero de\", cant_digitos, \n",
        "      \"cifras distintas\")\n",
        "propuesta = input(\"¿Que codigo propones?: \")\n",
        "\n",
        "# Se procesa la propuesta y se indica numero de digitos en posicion correcta e incorrecta\n",
        "intentos = 1\n",
        "while propuesta != codigo and propuesta != \"Me doy\" and intentos <= 9:\n",
        "    intentos = intentos + 1\n",
        "    aciertos = 0\n",
        "    coincidencias = 0\n",
        "\n",
        "    # Se recorremos la propuesta y verificamos en el codigo\n",
        "    for i in range(cant_digitos):\n",
        "        if propuesta[i] == codigo[i]:\n",
        "            aciertos = aciertos + 1\n",
        "        elif propuesta[i] in codigo:\n",
        "            coincidencias = coincidencias + 1\n",
        "    print (\"Tu propuesta (\", propuesta, \") tiene\", aciertos, \\\n",
        "          \"aciertos y \", coincidencias, \"coincidencias.\")\n",
        "    # Se pide la siguiente propuesta\n",
        "    propuesta = input(\"Propón otro codigo: \")\n",
        "\n",
        "if propuesta == \"Me doy\" or intentos > 9:\n",
        "    print(\"El codigo era\", codigo)\n",
        "    print(\"Suerte para la proxima!\")\n",
        "else:\n",
        "    print(\"Felicitaciones! Adivinaste el codigo en\", \\\n",
        "    intentos, \"intentos.\")"
      ],
      "metadata": {
        "id": "KbZcqAZJ0Qe9"
      },
      "execution_count": null,
      "outputs": []
    }
  ]
}