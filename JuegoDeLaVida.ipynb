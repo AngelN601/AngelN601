{
  "nbformat": 4,
  "nbformat_minor": 0,
  "metadata": {
    "colab": {
      "name": "JuegoDeLaVida.ipynb",
      "provenance": [],
      "collapsed_sections": [],
      "authorship_tag": "ABX9TyOY6VQ9kjuHbzqxDQYjzISz",
      "include_colab_link": true
    },
    "kernelspec": {
      "name": "python3",
      "display_name": "Python 3"
    },
    "language_info": {
      "name": "python"
    }
  },
  "cells": [
    {
      "cell_type": "markdown",
      "metadata": {
        "id": "view-in-github",
        "colab_type": "text"
      },
      "source": [
        "<a href=\"https://colab.research.google.com/github/AngelN601/AngelN601/blob/main/JuegoDeLaVida.ipynb\" target=\"_parent\"><img src=\"https://colab.research.google.com/assets/colab-badge.svg\" alt=\"Open In Colab\"/></a>"
      ]
    },
    {
      "cell_type": "code",
      "metadata": {
        "id": "CPE2CvnD8_p6"
      },
      "source": [
        "class Array2D():\n",
        "  \n",
        "  def __init__(self, ren, col):\n",
        "    self.__columnas = col\n",
        "    self.__renglones = ren\n",
        "    self.__data = [[ 0 for i in range(col)]for i in range (ren)]\n",
        "\n",
        "  def to_string(self):\n",
        "    for i in range(self.__renglones):\n",
        "      print(self.__data[i])\n",
        "\n",
        "  def clear(self, dato):\n",
        "    for i in range (self.__renglones):\n",
        "      for x in range(self.__columnas):\n",
        "        self.__data[i][x] = dato\n",
        "\n",
        "  def get_row_size(self):\n",
        "    return self.__renglones\n",
        "  def get_col_size(self):\n",
        "    return self.__columnas\n",
        "  \n",
        "  def set_item(self,ren,col,dato):\n",
        "    self.__data[ren][col] = dato\n",
        "\n",
        "  def get_item(self,ren,col):\n",
        "    return self.__data[ren][col]"
      ],
      "execution_count": 1,
      "outputs": []
    },
    {
      "cell_type": "code",
      "metadata": {
        "colab": {
          "base_uri": "https://localhost:8080/"
        },
        "id": "Hc7UvdN4-Fmk",
        "outputId": "94bec1f3-3bf7-4e36-9b51-240db7e3f0e3"
      },
      "source": [
        "tablero = Array2D(6 , 5)\n",
        "tablero.to_string()\n",
        "tablero.clear('M')\n",
        "print(\"------Poblacion inicial----------\")\n",
        "tablero.to_string()\n",
        "\n",
        "print(\"-------------Una idea de como establecer la población inicial-------\")\n",
        "poblacion_inicial = [ (2,2) , (3,1) , (3,2) , (3,3) ]\n",
        "\n",
        "for par in poblacion_inicial:\n",
        "  tablero.set_item(par[0],par[1], 'V')\n",
        "\n",
        "tablero.to_string()\n",
        "\n",
        "print(tablero.get_row_size())\n",
        "print(tablero.get_col_size())"
      ],
      "execution_count": 110,
      "outputs": [
        {
          "output_type": "stream",
          "name": "stdout",
          "text": [
            "[0, 0, 0, 0, 0]\n",
            "[0, 0, 0, 0, 0]\n",
            "[0, 0, 0, 0, 0]\n",
            "[0, 0, 0, 0, 0]\n",
            "[0, 0, 0, 0, 0]\n",
            "[0, 0, 0, 0, 0]\n",
            "------Poblacion inicial----------\n",
            "['M', 'M', 'M', 'M', 'M']\n",
            "['M', 'M', 'M', 'M', 'M']\n",
            "['M', 'M', 'M', 'M', 'M']\n",
            "['M', 'M', 'M', 'M', 'M']\n",
            "['M', 'M', 'M', 'M', 'M']\n",
            "['M', 'M', 'M', 'M', 'M']\n",
            "-------------Una idea de como establecer la población inicial-------\n",
            "['M', 'M', 'M', 'M', 'M']\n",
            "['M', 'M', 'M', 'M', 'M']\n",
            "['M', 'M', 'V', 'M', 'M']\n",
            "['M', 'V', 'V', 'V', 'M']\n",
            "['M', 'M', 'M', 'M', 'M']\n",
            "['M', 'M', 'M', 'M', 'M']\n",
            "6\n",
            "5\n"
          ]
        }
      ]
    },
    {
      "cell_type": "markdown",
      "metadata": {
        "id": "z0aRF_3dHGUv"
      },
      "source": [
        "##¿Como se debería programarse el juego de la vida?\n",
        "\n",
        "#### R.- Promgramar un ADT específico para empaquetar la lógica del Juego de la vida."
      ]
    },
    {
      "cell_type": "code",
      "metadata": {
        "id": "I0-fDYUVHF_J"
      },
      "source": [
        "\"\"\"\n",
        "En el constructor:\n",
        "    lista_pob_inicial es una lista de tuplas que contiene las coordenadas \n",
        "    ((ren, col)) de las celulas vivas en la poblacion inicial\n",
        "\n",
        "\"\"\"\n",
        "\n",
        "\n",
        "class JuegoDeLaVidaADT:\n",
        "  def __init__( self, rens, cols, lista_pob_inicial, generaciones):\n",
        "    self.tablero = Array2D( rens , cols)\n",
        "    self.generaciones = generaciones\n",
        "    self.gen = 1\n",
        "    self.tablero.clear('M')\n",
        "    for par in lista_pob_inicial:\n",
        "      self.tablero.set_item( par [0], par[1], 'V')\n",
        "    \n",
        "  def to_string( self ):\n",
        "    print(f\"----- GENERACIÓN {self.gen} ------\")\n",
        "    self.tablero.to_string()\n",
        "  \n",
        "  def get_vecinos(self, r , c):\n",
        "    vecinos = []\n",
        "    for ren in range(0, r):\n",
        "      for col in range(0, c):\n",
        "\n",
        "        vecinos = tablero[(ren - 1) % r, (col -1) % c] + tablero[(ren) % r, (col -1) % c] + tablero[(ren + 1) % r, (col -1) % c] + tablero[(ren - 1) % r, (col) % c] + tablero[(ren + 1) % r, (col) % c] + tablero[(ren - 1) % r, (col +1) % c] + tablero[(ren) % r, (col +1) % c] + tablero[(ren + 1) % r, (col +1) % c]\n",
        "\n",
        "  def get_vecinos_vivos(self, r, c):\n",
        "    vivos = 0\n",
        "    for vecinos in range(r , c):\n",
        "      if tablero[r ,c] == 'V':\n",
        "        vivos = vivos + 1\n",
        "\n",
        "      if tablero[r, c] == 'M':\n",
        "        None\n",
        "      "
      ],
      "execution_count": 150,
      "outputs": []
    },
    {
      "cell_type": "code",
      "metadata": {
        "colab": {
          "base_uri": "https://localhost:8080/"
        },
        "id": "eSLaAYmrLVqp",
        "outputId": "1a3c8080-2db3-45cc-d87d-4b2c7befefde"
      },
      "source": [
        "juego = JuegoDeLaVidaADT( 6 , 5 , [(2,2),(3,1),(3,2),(3,3)] , 5)\n",
        "juego.to_string()\n",
        "print(juego.get_vecinos(0,0))\n",
        "print(juego.get_vecinos_vivos)"
      ],
      "execution_count": 154,
      "outputs": [
        {
          "output_type": "stream",
          "name": "stdout",
          "text": [
            "----- GENERACIÓN 1 ------\n",
            "['M', 'M', 'M', 'M', 'M']\n",
            "['M', 'M', 'M', 'M', 'M']\n",
            "['M', 'M', 'V', 'M', 'M']\n",
            "['M', 'V', 'V', 'V', 'M']\n",
            "['M', 'M', 'M', 'M', 'M']\n",
            "['M', 'M', 'M', 'M', 'M']\n",
            "[ (1,0),(0,1),(1,1) ]\n",
            "0\n"
          ]
        }
      ]
    }
  ]
}