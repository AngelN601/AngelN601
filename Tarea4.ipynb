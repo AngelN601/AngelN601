{
  "nbformat": 4,
  "nbformat_minor": 0,
  "metadata": {
    "colab": {
      "name": "Tarea4.ipynb",
      "provenance": [],
      "authorship_tag": "ABX9TyNDsxvPfbzs7tBzSQWDivkc",
      "include_colab_link": true
    },
    "kernelspec": {
      "name": "python3",
      "display_name": "Python 3"
    },
    "language_info": {
      "name": "python"
    }
  },
  "cells": [
    {
      "cell_type": "markdown",
      "metadata": {
        "id": "view-in-github",
        "colab_type": "text"
      },
      "source": [
        "<a href=\"https://colab.research.google.com/github/AngelN601/AngelN601/blob/main/Tarea4.ipynb\" target=\"_parent\"><img src=\"https://colab.research.google.com/assets/colab-badge.svg\" alt=\"Open In Colab\"/></a>"
      ]
    },
    {
      "cell_type": "code",
      "metadata": {
        "colab": {
          "base_uri": "https://localhost:8080/"
        },
        "id": "8YWXBgCRqAow",
        "outputId": "f4b651ef-b943-410b-8604-53c289bc0e2a"
      },
      "source": [
        "#Tarea_4\n",
        "class Persona:\n",
        "  def __init__(self, nombre, edad):\n",
        "    self.nombre = nombre\n",
        "    self.edad = edad\n",
        "    col = 4\n",
        "    ren = 6\n",
        "    self.info = [[0 for _ in range(col)] for _ in range(ren)]   #Array\n",
        "\n",
        "\n",
        "  def set_nombre(self,nom):                   #set_item\n",
        "    self.nombre = nom\n",
        "  def get_nombre(self):                       #get_item      \n",
        "    return self.nombre\n",
        "\n",
        "  def to_string(self):                        #to_string\n",
        "    print(self.info)\n",
        "\n",
        "  def get_length(self):                        #get_row\n",
        "    return self.info\n",
        "\n",
        "  def __check_limits__(self, nom):              #get_col\n",
        "    return nom >= 0 and nom < self.info\n",
        "\n",
        "  def clear(self, info):\n",
        "    self.nombre = [info for x in range(self.edad)]\n",
        "\n",
        "humano = Persona(\"Diana\", 23)\n",
        "\n",
        "\n",
        "info\n"
      ],
      "execution_count": 98,
      "outputs": [
        {
          "output_type": "execute_result",
          "data": {
            "text/plain": [
              "[[0, 0, 0, 0],\n",
              " [0, 0, 0, 0],\n",
              " [0, 0, 0, 0],\n",
              " [0, 0, 0, 0],\n",
              " [0, 0, 0, 0],\n",
              " [0, 0, 0, 0]]"
            ]
          },
          "metadata": {},
          "execution_count": 98
        }
      ]
    }
  ]
}