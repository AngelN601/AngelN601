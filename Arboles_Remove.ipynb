{
  "nbformat": 4,
  "nbformat_minor": 0,
  "metadata": {
    "colab": {
      "name": "Arboles_1358.ipynb",
      "provenance": [],
      "collapsed_sections": [],
      "authorship_tag": "ABX9TyOHg5ZkGK/GBvjEFjbs93Vj",
      "include_colab_link": true
    },
    "kernelspec": {
      "name": "python3",
      "display_name": "Python 3"
    },
    "language_info": {
      "name": "python"
    }
  },
  "cells": [
    {
      "cell_type": "markdown",
      "metadata": {
        "id": "view-in-github",
        "colab_type": "text"
      },
      "source": [
        "<a href=\"https://colab.research.google.com/github/AngelN601/AngelN601/blob/main/Arboles_Remove.ipynb\" target=\"_parent\"><img src=\"https://colab.research.google.com/assets/colab-badge.svg\" alt=\"Open In Colab\"/></a>"
      ]
    },
    {
      "cell_type": "code",
      "metadata": {
        "id": "jnyk8M7Dt0bE"
      },
      "source": [
        "class BinaryNode:\n",
        "  def __init__( self , value , left= None , rigth=None):\n",
        "    self.data = value\n",
        "    self.left = left\n",
        "    self.right = rigth"
      ],
      "execution_count": null,
      "outputs": []
    },
    {
      "cell_type": "code",
      "metadata": {
        "id": "gEgfDsamup3m"
      },
      "source": [
        "class TernaryNode:\n",
        "  def __init__( self , value , left=None , center=None , right=None):\n",
        "    self.data = value\n",
        "    self.left = left\n",
        "    self.center = center\n",
        "    self.right = right"
      ],
      "execution_count": null,
      "outputs": []
    },
    {
      "cell_type": "code",
      "metadata": {
        "colab": {
          "base_uri": "https://localhost:8080/"
        },
        "id": "tuUPY5Qpvgtb",
        "outputId": "c2f3a9dd-748d-4de7-cd41-5edc07e79248"
      },
      "source": [
        "root = BinaryNode(\"R\",BinaryNode(\"C\"),BinaryNode(\"H\"))\n",
        "print( root.left.data )"
      ],
      "execution_count": null,
      "outputs": [
        {
          "output_type": "stream",
          "name": "stdout",
          "text": [
            "C\n"
          ]
        }
      ]
    },
    {
      "cell_type": "code",
      "metadata": {
        "colab": {
          "base_uri": "https://localhost:8080/"
        },
        "id": "f8z2TDa6wZ3x",
        "outputId": "bb2c2196-57f0-4cf8-d512-96bde0a644c8"
      },
      "source": [
        "root = TernaryNode(4,TernaryNode(3,TernaryNode(5,left=TernaryNode(2)),\\\n",
        "                  TernaryNode(5),TernaryNode(2)), None, TernaryNode(5) )\n",
        "print(root.left.left.left.data)\n",
        "print(\".-.-.-.-.-.-.-.-.-.\")\n",
        "aux = root\n",
        "while aux.left != None:\n",
        "  aux = aux.left\n",
        "print(aux.data)\n",
        "print(\".-.-.-.-.-.-\")\n",
        "print(root.left.right.data)"
      ],
      "execution_count": null,
      "outputs": [
        {
          "output_type": "stream",
          "name": "stdout",
          "text": [
            "2\n",
            ".-.-.-.-.-.-.-.-.-.\n",
            "2\n",
            ".-.-.-.-.-.-\n",
            "2\n"
          ]
        }
      ]
    },
    {
      "cell_type": "code",
      "metadata": {
        "colab": {
          "base_uri": "https://localhost:8080/"
        },
        "id": "YF14YGkh5NGb",
        "outputId": "6a0ae635-f41e-47f0-ebb5-491b0bfd6855"
      },
      "source": [
        "root = BinaryNode(\"Santi\",None,\\\n",
        "                  BinaryNode(\"Jesus\",BinaryNode(\"Pedro\",None,BinaryNode(\"Pedro Jn\"))))\n",
        "print(root.right.left.right.data)"
      ],
      "execution_count": null,
      "outputs": [
        {
          "output_type": "stream",
          "name": "stdout",
          "text": [
            "Pedro Jn\n"
          ]
        }
      ]
    },
    {
      "cell_type": "code",
      "metadata": {
        "id": "YeMIjfkudEQ6"
      },
      "source": [
        "class BinaryNode:\n",
        "  def __init__( self , value , left=None , rigth= None , padres_nodo = None):\n",
        "    self.data = value\n",
        "    self.left = left\n",
        "    self.rigth = rigth\n",
        "    if padres_nodo == None:\n",
        "      self.padres = self\n",
        "    else:\n",
        "      self.padres = padres_nodo\n",
        "\n",
        "class BinarySearchTree:\n",
        "  def __init__( self ):\n",
        "    self.root = None\n",
        "\n",
        "  def insert( self , value ):\n",
        "    if self.root == None:\n",
        "      self.root = BinaryNode( value )\n",
        "    else:\n",
        "      self.__insert_nodo( self.root , value )\n",
        "\n",
        "  def __insert_nodo(self , nodo , value ):\n",
        "      if nodo.data == value:\n",
        "        pass\n",
        "      elif value < nodo.data: #Ir a la izq\n",
        "        if nodo.left == None:\n",
        "          nodo.left = BinaryNode(value)\n",
        "        else:\n",
        "          self.__insert_nodo( nodo.left , value )\n",
        "      else:   #ir a la derecha\n",
        "        if nodo.rigth == None:\n",
        "          nodo.rigth = BinaryNode( value )\n",
        "        else:\n",
        "          self.__insert_nodo( nodo.rigth , value )\n",
        "\n",
        "  def transversal( self , formato = \"posorden\"):\n",
        "      if formato == \"posorden\":\n",
        "        self.recorrido_pos( self.root )\n",
        "      elif formato == \"preorden\":\n",
        "        self.recorrido_pre( self.root )\n",
        "      else: #inorden\n",
        "        self.recorrido_in( self.root )\n",
        "      print()\n",
        "\n",
        "  def recorrido_pos( self , nodo):\n",
        "      if nodo != None:\n",
        "        self.recorrido_pos( nodo.left )\n",
        "        self.recorrido_pos( nodo.rigth ) \n",
        "        print( str(nodo.data ), end=\" , \" )\n",
        "\n",
        "  def recorrido_pre( self , nodo):\n",
        "      if nodo != None:\n",
        "        print( str(nodo.data ), end=\" , \")\n",
        "        self.recorrido_pre( nodo.left )\n",
        "        self.recorrido_pre( nodo.rigth ) \n",
        "\n",
        "  def recorrido_in( self , nodo):\n",
        "      if nodo != None:\n",
        "        self.recorrido_in( nodo.left )\n",
        "        print( str(nodo.data ), end=\" , \" )\n",
        "        self.recorrido_in( nodo.rigth ) \n",
        "    \n",
        "  def search( self , value ):\n",
        "      if self.root == None:\n",
        "        print(\"El arbol esta vacío\")\n",
        "        return None\n",
        "      else:\n",
        "        return self.__search( self.root , value )\n",
        "\n",
        "  def __search( self , nodo , value ):\n",
        "      if nodo == None:\n",
        "        print(\"El dato no existe en el árbol\")\n",
        "        return None\n",
        "      elif nodo.data == value:\n",
        "        print(\"Encontrado\")\n",
        "        return nodo\n",
        "      elif value < nodo.data:\n",
        "        return self.__search( nodo.left , value )\n",
        "      else:\n",
        "        return self.__search( nodo.rigth , value )\n",
        "\n",
        "  def next( self , next):\n",
        "    if nodo.rigth != None:\n",
        "      return self._left_siguiente( nodo.left )\n",
        "    else:\n",
        "      return self._rigth_anterior( nodo )\n",
        "\n",
        "  def _left_siguiente( self , nodo ):\n",
        "    if nodo.left == None:\n",
        "      return nodo\n",
        "    else:\n",
        "      return self._left_siguiente( nodo.left )\n",
        "\n",
        "  def _rigth_anterior( self , nodo ):\n",
        "    if nodo.data <= nodo.padres.data:\n",
        "      return nodo.padres\n",
        "    else:\n",
        "      return self._rigth_anterior( nodo.padres )\n",
        "\n",
        "  def remove( self , value ):\n",
        "    nodo = self.search( value )\n",
        "    if nodo == None:\n",
        "      print( value , \"El dato no existe en el arbol \")\n",
        "    else:\n",
        "      if nodo.rigth == None:\n",
        "        if nodo.left == None:\n",
        "          if nodo.data < nodo.padres.data:\n",
        "            nodo.padres.left = None\n",
        "            del nodo\n",
        "          else:\n",
        "            nodo.padres.rigth = None\n",
        "            del nodo\n",
        "        else:\n",
        "          nodo.data = nodo.left.data\n",
        "          nodo.left = None\n",
        "      else:\n",
        "        value = self.next(nodo)\n",
        "        nodo.data = value.data\n",
        "        value = None"
      ],
      "execution_count": 17,
      "outputs": []
    },
    {
      "cell_type": "code",
      "metadata": {
        "colab": {
          "base_uri": "https://localhost:8080/"
        },
        "id": "M3GXA8R2joIM",
        "outputId": "7531bd22-ea73-4646-abda-03c1b7198c9e"
      },
      "source": [
        "arb1 = BinarySearchTree()\n",
        "arb1.insert(60)\n",
        "arb1.insert(30)\n",
        "arb1.insert(15)\n",
        "arb1.insert(40)\n",
        "arb1.transversal()\n",
        "arb1.transversal(\"posorden\")\n",
        "arb1.transversal(\"preorden\")\n",
        "arb1.transversal(\"inorden\")\n",
        "print(arb1.search(110) )\n",
        "print(arb1.search(15) )\n",
        "res = arb1.search(30)\n",
        "print( res.data )\n",
        "print(res.left.data)"
      ],
      "execution_count": 2,
      "outputs": [
        {
          "output_type": "stream",
          "name": "stdout",
          "text": [
            "15 , 40 , 30 , 60 , \n",
            "15 , 40 , 30 , 60 , \n",
            "60 , 30 , 15 , 40 , \n",
            "15 , 30 , 40 , 60 , \n",
            "El dato no existe en el árbol\n",
            "None\n",
            "Encontrado\n",
            "<__main__.BinaryNode object at 0x7f279da77250>\n",
            "Encontrado\n",
            "30\n",
            "15\n"
          ]
        }
      ]
    },
    {
      "cell_type": "code",
      "metadata": {
        "colab": {
          "base_uri": "https://localhost:8080/"
        },
        "id": "kU_IsfNq3L8K",
        "outputId": "466d9c6e-3079-41e9-cfbc-f712d8b8a094"
      },
      "source": [
        "arb2 = BinarySearchTree()\n",
        "arb2.insert(8)\n",
        "arb2.insert(5)\n",
        "arb2.insert(1)\n",
        "arb2.insert(4)\n",
        "arb2.insert(6)\n",
        "arb2.insert(7)\n",
        "arb2.insert(20)\n",
        "arb2.insert(12)\n",
        "arb2.insert(23)\n",
        "#2\n",
        "arb2.transversal(\"preorden\")\n",
        "#3\n",
        "print(arb2.search(22) )\n",
        "4#\n",
        "print(arb2.search(6).data)"
      ],
      "execution_count": 3,
      "outputs": [
        {
          "output_type": "stream",
          "name": "stdout",
          "text": [
            "8 , 5 , 1 , 4 , 6 , 7 , 20 , 12 , 23 , \n",
            "El dato no existe en el árbol\n",
            "None\n",
            "Encontrado\n",
            "6\n"
          ]
        }
      ]
    },
    {
      "cell_type": "code",
      "metadata": {
        "colab": {
          "base_uri": "https://localhost:8080/"
        },
        "id": "eWxMspCpzehy",
        "outputId": "51bb0e35-eb6c-4e60-cb03-ba753717da5d"
      },
      "source": [
        "#Tarea Remove\n",
        "arb3 = BinarySearchTree()\n",
        "arb3.insert(10)\n",
        "arb3.insert(5)\n",
        "arb3.insert(3)\n",
        "arb3.insert(7)\n",
        "arb3.insert(15)\n",
        "arb3.insert(12)\n",
        "arb3.insert(20)\n",
        "arb3.transversal(\"inorden\")\n",
        "arb3.remove(7)\n",
        "print(arb3.search(7) )\n",
        "arb3.transversal(\"inorden\")"
      ],
      "execution_count": 16,
      "outputs": [
        {
          "output_type": "stream",
          "name": "stdout",
          "text": [
            "3 , 5 , 7 , 10 , 12 , 15 , 20 , \n",
            "Encontrado\n",
            "El dato no existe en el árbol\n",
            "None\n",
            "3 , 5 , 10 , 12 , 15 , 20 ,\n"
          ]
        }
      ]
    }
  ]
}