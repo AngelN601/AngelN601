{
  "nbformat": 4,
  "nbformat_minor": 0,
  "metadata": {
    "colab": {
      "name": "Lagrange.ipynb",
      "provenance": [],
      "authorship_tag": "ABX9TyMrs/FWdAKxmg3NGVF+sILN",
      "include_colab_link": true
    },
    "kernelspec": {
      "name": "python3",
      "display_name": "Python 3"
    },
    "language_info": {
      "name": "python"
    }
  },
  "cells": [
    {
      "cell_type": "markdown",
      "metadata": {
        "id": "view-in-github",
        "colab_type": "text"
      },
      "source": [
        "<a href=\"https://colab.research.google.com/github/AngelN601/AngelN601/blob/main/Lagrange.ipynb\" target=\"_parent\"><img src=\"https://colab.research.google.com/assets/colab-badge.svg\" alt=\"Open In Colab\"/></a>"
      ]
    },
    {
      "cell_type": "code",
      "metadata": {
        "id": "jpPukyH1YWAf"
      },
      "source": [
        "import numpy as np\n",
        "import sympy as sym\n",
        "\n",
        "#Ingreso de Datos\n",
        "xi = []\n",
        "v = int(input(\"No. de puntos: \"))\n",
        "for e in range(v):\n",
        "  ni=int(input(\"Ingrese las x: \"))\n",
        "  xi.append(ni)\n",
        "\n",
        "y = []\n",
        "for e in range(v):\n",
        "  yi=int(input(\"Ingrese las y: \"))\n",
        "  y.append(yi)\n",
        "\n",
        "# Polinomio de Lagrange\n",
        "n = len(xi)\n",
        "x = sym.Symbol('x')\n",
        "polinomio = 0\n",
        "div = np.zeros(n, dtype = float)\n",
        "for i in range(0,n,1):\n",
        "    num = 1\n",
        "    den = 1\n",
        "    for j  in range(0,n,1):\n",
        "        if (j!=i):\n",
        "            num = num*(x-xi[j])\n",
        "            den = den*(xi[i]-xi[j])\n",
        "    final = num/den\n",
        "\n",
        "    polinomio = polinomio + final*y[i]\n",
        "    div[i] = den\n",
        "\n",
        "print('Valores de x: ',xi)\n",
        "print('Valores de y: ',y)\n",
        "print()\n",
        "print('Polinomio de Lagrange: ')\n",
        "print(polinomio.expand())\n",
        "\n",
        "entrada = \"x\"\n",
        "\n",
        "inter = int(input(\"Quiere interpolar algun numero? \\n Si = 1  No = 0 \"))\n",
        "if inter == 1:\n",
        "  inter1 = int(input(\"Que numero desea? \"))\n",
        "  numeross = \"2\"\n",
        "  inter1 , numeross = numeross , inter1\n",
        "  cambio = str.maketrans( entrada , numeross)\n",
        "  str= polinomio\n",
        "  print(str.translate(cambio))"
      ],
      "execution_count": null,
      "outputs": []
    }
  ]
}