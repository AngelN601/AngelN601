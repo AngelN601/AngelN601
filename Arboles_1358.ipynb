{
  "nbformat": 4,
  "nbformat_minor": 0,
  "metadata": {
    "colab": {
      "name": "Arboles_1358.ipynb",
      "provenance": [],
      "authorship_tag": "ABX9TyMgHDSWNb9/eVOnEZKMJBdf",
      "include_colab_link": true
    },
    "kernelspec": {
      "name": "python3",
      "display_name": "Python 3"
    },
    "language_info": {
      "name": "python"
    }
  },
  "cells": [
    {
      "cell_type": "markdown",
      "metadata": {
        "id": "view-in-github",
        "colab_type": "text"
      },
      "source": [
        "<a href=\"https://colab.research.google.com/github/AngelN601/AngelN601/blob/main/Arboles_1358.ipynb\" target=\"_parent\"><img src=\"https://colab.research.google.com/assets/colab-badge.svg\" alt=\"Open In Colab\"/></a>"
      ]
    },
    {
      "cell_type": "code",
      "metadata": {
        "id": "jnyk8M7Dt0bE"
      },
      "source": [
        "class BinaryNode:\n",
        "  def __init__( self , value , left= None , rigth=None):\n",
        "    self.data = value\n",
        "    self.left = left\n",
        "    self.right = rigth"
      ],
      "execution_count": 1,
      "outputs": []
    },
    {
      "cell_type": "code",
      "metadata": {
        "id": "gEgfDsamup3m"
      },
      "source": [
        "class TernaryNode:\n",
        "  def __init__( self , value , left=None , center=None , right=None):\n",
        "    self.data = value\n",
        "    self.left = left\n",
        "    self.center = center\n",
        "    self.right = right"
      ],
      "execution_count": 5,
      "outputs": []
    },
    {
      "cell_type": "code",
      "metadata": {
        "colab": {
          "base_uri": "https://localhost:8080/"
        },
        "id": "tuUPY5Qpvgtb",
        "outputId": "8cc7e2b0-3da5-47ec-f014-0d3ee124c844"
      },
      "source": [
        "root = BinaryNode(\"R\",BinaryNode(\"C\"),BinaryNode(\"H\"))\n",
        "print( root.left.data )"
      ],
      "execution_count": 3,
      "outputs": [
        {
          "output_type": "stream",
          "name": "stdout",
          "text": [
            "C\n"
          ]
        }
      ]
    },
    {
      "cell_type": "code",
      "metadata": {
        "colab": {
          "base_uri": "https://localhost:8080/"
        },
        "id": "f8z2TDa6wZ3x",
        "outputId": "975a63df-75d3-4b4f-8d48-467545e9f32a"
      },
      "source": [
        "root = TernaryNode(4,TernaryNode(3,TernaryNode(5,left=TernaryNode(2)),\\\n",
        "                  TernaryNode(5),TernaryNode(2)), None, TernaryNode(5) )\n",
        "print(root.left.left.left.data)\n",
        "print(\".-.-.-.-.-.-.-.-.-.\")\n",
        "aux = root\n",
        "while aux.left != None:\n",
        "  aux = aux.left\n",
        "print(aux.data)\n",
        "print(\".-.-.-.-.-.-\")\n",
        "print(root.left.right.data)"
      ],
      "execution_count": 7,
      "outputs": [
        {
          "output_type": "stream",
          "name": "stdout",
          "text": [
            "2\n",
            ".-.-.-.-.-.-.-.-.-.\n",
            "2\n",
            ".-.-.-.-.-.-\n",
            "2\n"
          ]
        }
      ]
    },
    {
      "cell_type": "code",
      "metadata": {
        "colab": {
          "base_uri": "https://localhost:8080/"
        },
        "id": "YF14YGkh5NGb",
        "outputId": "f1cf17d3-aaf5-42d4-bd51-bc8716b70c86"
      },
      "source": [
        "root = BinaryNode(\"Santi\",None,\\\n",
        "                  BinaryNode(\"Jesus\",BinaryNode(\"Pedro\",None,BinaryNode(\"Pedro Jn\"))))\n",
        "print(root.right.left.right.data)"
      ],
      "execution_count": 10,
      "outputs": [
        {
          "output_type": "stream",
          "name": "stdout",
          "text": [
            "Pedro Jn\n"
          ]
        }
      ]
    }
  ]
}