{
  "nbformat": 4,
  "nbformat_minor": 0,
  "metadata": {
    "colab": {
      "name": "JuegoDeLaVida.ipynb",
      "provenance": [],
      "collapsed_sections": [],
      "authorship_tag": "ABX9TyPbUOmPq45gGCJlVhAmdzqn",
      "include_colab_link": true
    },
    "kernelspec": {
      "name": "python3",
      "display_name": "Python 3"
    },
    "language_info": {
      "name": "python"
    }
  },
  "cells": [
    {
      "cell_type": "markdown",
      "metadata": {
        "id": "view-in-github",
        "colab_type": "text"
      },
      "source": [
        "<a href=\"https://colab.research.google.com/github/AngelN601/AngelN601/blob/main/Tarea_6.ipynb\" target=\"_parent\"><img src=\"https://colab.research.google.com/assets/colab-badge.svg\" alt=\"Open In Colab\"/></a>"
      ]
    },
    {
      "cell_type": "code",
      "metadata": {
        "colab": {
          "base_uri": "https://localhost:8080/"
        },
        "id": "6DvDbKR-C2D7",
        "outputId": "d553469a-a97b-43e3-a9b0-d151e3645c59"
      },
      "source": [
        "!pip install simple_chalk"
      ],
      "execution_count": null,
      "outputs": [
        {
          "output_type": "stream",
          "name": "stdout",
          "text": [
            "Requirement already satisfied: simple_chalk in /usr/local/lib/python3.7/dist-packages (0.1.0)\n"
          ]
        }
      ]
    },
    {
      "cell_type": "code",
      "metadata": {
        "id": "CPE2CvnD8_p6"
      },
      "source": [
        "class Array2D():\n",
        "  \n",
        "  def __init__(self, ren, col):\n",
        "    self.__columnas = col\n",
        "    self.__renglones = ren\n",
        "    self.__data = [[ 0 for i in range(col)]for i in range (ren)]\n",
        "\n",
        "  def to_string(self):\n",
        "    for i in range(self.__renglones):\n",
        "      print(self.__data[i])\n",
        "\n",
        "  def clear(self, dato):\n",
        "    for i in range (self.__renglones):\n",
        "      for x in range(self.__columnas):\n",
        "        self.__data[i][x] = dato\n",
        "\n",
        "  def get_row_size(self):\n",
        "    return self.__renglones\n",
        "  def get_col_size(self):\n",
        "    return self.__columnas\n",
        "  \n",
        "  def set_item(self,ren,col,dato):\n",
        "    self.__data[ren][col] = dato\n",
        "\n",
        "  def get_item(self,ren,col):\n",
        "    return self.__data[ren][col]"
      ],
      "execution_count": null,
      "outputs": []
    },
    {
      "cell_type": "code",
      "metadata": {
        "colab": {
          "base_uri": "https://localhost:8080/"
        },
        "id": "Hc7UvdN4-Fmk",
        "outputId": "2f2fcec5-7704-4b24-f04b-b5b504e1f120"
      },
      "source": [
        "tablero = Array2D(6 , 5)\n",
        "tablero.to_string()\n",
        "Ntablero = Array2D(6 , 5)\n",
        "Ntablero.clear('M')\n",
        "tablero.clear('M')\n",
        "print(\"------Poblacion inicial----------\")\n",
        "tablero.to_string()\n",
        "\n",
        "\n",
        "print(\"-------------Una idea de como establecer la población inicial-------\")\n",
        "poblacion_inicial = [ (2,2) , (3,1) , (3,2) , (3,3) ]\n",
        "\n",
        "for par in poblacion_inicial:\n",
        "  tablero.set_item(par[0],par[1], 'V')\n",
        "\n",
        "tablero.to_string()\n",
        "\n",
        "print(tablero.get_row_size())\n",
        "print(tablero.get_col_size())"
      ],
      "execution_count": null,
      "outputs": [
        {
          "output_type": "stream",
          "name": "stdout",
          "text": [
            "[0, 0, 0, 0, 0]\n",
            "[0, 0, 0, 0, 0]\n",
            "[0, 0, 0, 0, 0]\n",
            "[0, 0, 0, 0, 0]\n",
            "[0, 0, 0, 0, 0]\n",
            "[0, 0, 0, 0, 0]\n",
            "------Poblacion inicial----------\n",
            "['M', 'M', 'M', 'M', 'M']\n",
            "['M', 'M', 'M', 'M', 'M']\n",
            "['M', 'M', 'M', 'M', 'M']\n",
            "['M', 'M', 'M', 'M', 'M']\n",
            "['M', 'M', 'M', 'M', 'M']\n",
            "['M', 'M', 'M', 'M', 'M']\n",
            "-------------Una idea de como establecer la población inicial-------\n",
            "['M', 'M', 'M', 'M', 'M']\n",
            "['M', 'M', 'M', 'M', 'M']\n",
            "['M', 'M', 'V', 'M', 'M']\n",
            "['M', 'V', 'V', 'V', 'M']\n",
            "['M', 'M', 'M', 'M', 'M']\n",
            "['M', 'M', 'M', 'M', 'M']\n",
            "6\n",
            "5\n"
          ]
        }
      ]
    },
    {
      "cell_type": "markdown",
      "metadata": {
        "id": "z0aRF_3dHGUv"
      },
      "source": [
        "##¿Como se debería programarse el juego de la vida?\n",
        "\n",
        "#### R.- Promgramar un ADT específico para empaquetar la lógica del Juego de la vida."
      ]
    },
    {
      "cell_type": "code",
      "metadata": {
        "id": "I0-fDYUVHF_J"
      },
      "source": [
        "\"\"\"\n",
        "En el constructor:\n",
        "    lista_pob_inicial es una lista de tuplas que contiene las coordenadas \n",
        "    ((ren, col)) de las celulas vivas en la poblacion inicial\n",
        "\n",
        "\"\"\"\n",
        "\n",
        "\n",
        "class JuegoDeLaVidaADT:\n",
        "  def __init__( self, rens, cols, lista_pob_inicial, generaciones):\n",
        "    self.tablero = Array2D( rens , cols)\n",
        "    self.generaciones = generaciones\n",
        "    self.gen = 1\n",
        "    self.tablero.clear('M')\n",
        "    for par in lista_pob_inicial:\n",
        "      self.tablero.set_item( par [0], par[1], 'V')\n",
        "    \n",
        "  def to_string( self ):\n",
        "    print(f\"----- GENERACIÓN {self.gen} ------\")\n",
        "    self.tablero.to_string()\n",
        "  \n",
        "  def get_vecinos(self, r , c):\n",
        "    vecinos = []\n",
        "    for ren in range(r-1 , r+2 , 1):\n",
        "      for col in range(c-1 , c+2 , 1):\n",
        "        if ren < 0 or ren >= self.tablero.get_row_size() or col < 0 or col >= self.tablero.get_col_size() or (ren==r and col==c):\n",
        "          pass\n",
        "        else:\n",
        "          vecinos.append((ren , col))\n",
        "    return vecinos\n",
        "        \n",
        "  def get_vecinos_vivos(self, r, c):\n",
        "    vivos = 0\n",
        "    vecinos = self.get_vecinos (r , c)\n",
        "    for par in vecinos:\n",
        "      if self.tablero.get_item(par[0], par[1]) == 'V' :\n",
        "        vivos += 1\n",
        "\n",
        "    return vivos\n",
        "\n",
        "  \"\"\"\n",
        "  Recorrer todo el grid para aplicar las 4 reglas celula por\n",
        "  celula, ir agregando el resultado en una copia del tablero original \n",
        "  al final sustituir el tablero general por el local.\n",
        "  \"\"\"\n",
        "\n",
        "  def aplicar_reglas(self , r , c):\n",
        "    for ren in range(r+4 , 1):\n",
        "      for col in range(c+5 , 1):\n",
        "        coord = (ren[0], col[1])\n",
        "        for par in coord:\n",
        "          self.get_vecinos_vivos(par[0], par[1]) \n",
        "          if self.tablero.get_item(par[0], par[1]) == 'V' :\n",
        "            if self.get_vecinos_vivos == 2 or self.get_vecinos_vivos == 3:\n",
        "              self.Ntablero.set_item(par[0], par[1]) == 'V'\n",
        "            elif self.get_vecinos_vivos == 0 or self.get_vecinos_vivos == 1:\n",
        "              self.Ntablero.set_item(par[0], par[1]) == 'M'\n",
        "            elif self.get_vecinos_vivos >= 4:\n",
        "              self.Ntablero.set_item(par[0], par[1]) == 'M'\n",
        "\n",
        "          if self.tablero.get_item(par[0], par[1]) == 'M' :\n",
        "            if self.get_vecinos_vivos == 3:\n",
        "              self.Ntablero.set_item(par[0], par[1]) == 'V'\n",
        "            elif self.get_vecinos_vivos <= 2:\n",
        "              self.Ntablero.set_item(par[0], par[1]) == 'M' \n",
        "\n",
        "    tablero = Ntablero   \n",
        "\n",
        "  def no_generacion ( self ):\n",
        "    no_gen = input(\"¿Cuantas generaciones? \")\n",
        "    print(f\"----- GENERACIÓN {self.gen} ------\")\n",
        "    self.tablero.to_string()\n",
        "\n",
        "    for fn in no_gen:\n",
        "      self.aplicar_reglas(0,0)\n",
        "      print(f\"----- GENERACIÓN {self.gen+1} ------\")\n",
        "      self.tablero.to_string()\n"
      ],
      "execution_count": null,
      "outputs": []
    },
    {
      "cell_type": "code",
      "metadata": {
        "colab": {
          "base_uri": "https://localhost:8080/"
        },
        "id": "eSLaAYmrLVqp",
        "outputId": "23920cd9-2ace-4c26-91c3-11346c485ce3"
      },
      "source": [
        "juego = JuegoDeLaVidaADT( 6 , 5 , [(2,2),(3,1),(3,2),(3,3)] , 5)\n",
        "juego.to_string()\n",
        "print(\"Vecinos vivos de 5,4\")\n",
        "print(juego.get_vecinos(5,4))\n",
        "r= 2\n",
        "c= 2\n",
        "print(f\"Vecinos vivos de {r},{c}, son {juego.get_vecinos_vivos(r,c)}\")\n",
        "#Ntablero.to_string()\n",
        "juego.no_generacion()"
      ],
      "execution_count": null,
      "outputs": [
        {
          "output_type": "stream",
          "name": "stdout",
          "text": [
            "----- GENERACIÓN 1 ------\n",
            "['M', 'M', 'M', 'M', 'M']\n",
            "['M', 'M', 'M', 'M', 'M']\n",
            "['M', 'M', 'V', 'M', 'M']\n",
            "['M', 'V', 'V', 'V', 'M']\n",
            "['M', 'M', 'M', 'M', 'M']\n",
            "['M', 'M', 'M', 'M', 'M']\n",
            "Vecinos vivos de 5,4\n",
            "[(4, 3), (4, 4), (5, 3)]\n",
            "Vecinos vivos de 2,2, son 3\n",
            "¿Cuantas generaciones? 3\n",
            "----- GENERACIÓN 1 ------\n",
            "['M', 'M', 'M', 'M', 'M']\n",
            "['M', 'M', 'M', 'M', 'M']\n",
            "['M', 'M', 'V', 'M', 'M']\n",
            "['M', 'V', 'V', 'V', 'M']\n",
            "['M', 'M', 'M', 'M', 'M']\n",
            "['M', 'M', 'M', 'M', 'M']\n",
            "----- GENERACIÓN 2 ------\n",
            "['M', 'M', 'M', 'M', 'M']\n",
            "['M', 'M', 'V', 'M', 'M']\n",
            "['M', 'V', 'V', 'V', 'M']\n",
            "['M', 'V', 'V', 'V', 'M']\n",
            "['M', 'V', 'V', 'V', 'M']\n",
            "['M', 'M', 'M', 'M', 'M']\n",
            "----- GENERACIÓN 3 ------\n",
            "['M', 'M', 'M', 'M', 'M']\n",
            "['M', 'M', 'V', 'M', 'M']\n",
            "['M', 'V', 'M', 'V', 'M']\n",
            "['M', 'M', 'M', 'M', 'M']\n",
            "['M', 'V', 'V', 'V', 'M']\n",
            "['M', 'M', 'M', 'M', 'M']\n"
          ]
        }
      ]
    },
    {
      "cell_type": "code",
      "metadata": {
        "colab": {
          "base_uri": "https://localhost:8080/"
        },
        "id": "hI15uIG8DcUy",
        "outputId": "f5b82eaa-c7d1-4253-e17f-79452d0bfaa6"
      },
      "source": [
        "from simple_chalk import chalk , green , red\n",
        "\n",
        "nombre = \"jose\"\n",
        "edad = 19\n",
        "print( nombre )\n",
        "print( edad )\n",
        "\n",
        "print( chalk.green(nombre) )\n",
        "print( chalk.blue.bgWhite(edad) )"
      ],
      "execution_count": null,
      "outputs": [
        {
          "output_type": "stream",
          "name": "stdout",
          "text": [
            "jose\n",
            "19\n",
            "\u001b[32mjose\u001b[0m\n",
            "\u001b[34;47m19\u001b[0m\n",
            "\u001b[47mhola\u001b[0m\n"
          ]
        }
      ]
    }
  ]
}