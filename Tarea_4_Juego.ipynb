{
  "nbformat": 4,
  "nbformat_minor": 0,
  "metadata": {
    "colab": {
      "name": "Tarea_4_Juego.ipynb",
      "provenance": [],
      "authorship_tag": "ABX9TyMxLFNmjyO2+6QHxcDvyPTa",
      "include_colab_link": true
    },
    "kernelspec": {
      "name": "python3",
      "display_name": "Python 3"
    },
    "language_info": {
      "name": "python"
    }
  },
  "cells": [
    {
      "cell_type": "markdown",
      "metadata": {
        "id": "view-in-github",
        "colab_type": "text"
      },
      "source": [
        "<a href=\"https://colab.research.google.com/github/AngelN601/AngelN601/blob/main/Tarea_4_Juego.ipynb\" target=\"_parent\"><img src=\"https://colab.research.google.com/assets/colab-badge.svg\" alt=\"Open In Colab\"/></a>"
      ]
    },
    {
      "cell_type": "code",
      "metadata": {
        "colab": {
          "base_uri": "https://localhost:8080/"
        },
        "id": "Sdrc3KGORY2n",
        "outputId": "4865c4a4-b862-44ed-98ee-61565c36e341"
      },
      "source": [
        "#Juego de la VIda\n",
        "import numpy \n",
        "import os\n",
        "\n",
        "cuadro = [[0,0,0,0,0,0,0,0,0,0],\n",
        "\t [0,0,0,0,0,0,0,0,0,0],\n",
        " \t [0,0,0,0,0,0,0,0,0,0],\n",
        " \t [0,0,0,0,0,1,0,0,0,0],\n",
        " \t [0,0,0,0,1,0,0,0,0,0],\n",
        " \t [0,0,0,0,1,1,1,0,0,0],\n",
        " \t [0,0,0,0,0,0,0,0,0,0],\n",
        " \t [0,0,0,0,0,0,0,0,0,0],\n",
        " \t [0,0,0,0,0,0,0,0,0,0],\n",
        " \t [0,0,0,0,0,0,0,0,0,0]]\n",
        "\n",
        "def imp (matriz):\n",
        "  for i in matriz:\n",
        "    for j in i:\n",
        "      print(j)\n",
        "\n",
        "    print\n",
        "  print(\"--------------------------\")\n",
        "print(\"\\n\")\n",
        " \n",
        "\n",
        "\n",
        "\n",
        "def celVecinas (matriz, posicion):\n",
        "  vecinas = 0\n",
        "  if poscion == (0,0):\n",
        "    for i in matriz [0:posicion[0]+2]:\n",
        "      for j in i[0:posicion[1]+2]:\n",
        "        if j == 1:\n",
        "         vecinas = vecinas + 1\n",
        "\n",
        "  elif posicion[0] == 0:\n",
        "    for i in matriz[0:posicion[0]+2]:\n",
        "      for j in i [posicion[1]-1: posicion[1]+2]:\n",
        "        if j == 1:\n",
        "          vecinas = vecinas + 1\n",
        "\n",
        "  elif poscion[1] == 0:\n",
        "    for i in matriz[posicion[0]-1:posicion[0]+2]:\n",
        "      for j in i[0:posicion[1]+2]:\n",
        "        if j == 1:\n",
        "          vecinas = vecinas + 1\n",
        "\n",
        "  else:\n",
        "    for i in matriz[posicion[0]-1:posicion[0]+2]:\n",
        "      for j in i[posicion[1]-1:posicion[1]+2]:\n",
        "        if j == 1:\n",
        "          vecinas = vecinas + 1\n",
        "\n",
        "  if (matriz[posicion[0]][posicion[1]] == 1):\n",
        "    vecinas = vecinas -1\n",
        "\n",
        "  return vecinas\n",
        "\n",
        "def nCelulas (matriz):\n",
        "  vivas = 0\n",
        "  resultado = numpy.zeros_like(matriz)\n",
        "  for n in range(len(matriz)):\n",
        "    vivas = vecinos(matriz,(n,j))\n",
        "    if matriz[n][j] == 0 and vivas == 3:\n",
        "      total[n][j] = 1\n",
        "    elif matriz [n][j] == 1 and vivas < 2:\n",
        "      total[n][j] = 0\n",
        "    elif matriz [n][j] == 1 and vivas > 3:\n",
        "      total[n][j] = 0\n",
        "    elif matriz[n][j] == 1 and (vivas == 2 or vivas == 3):\n",
        "      total [n][j] = 1\n",
        "\n",
        "  print(total)\n",
        "  os.system(Clear)\n",
        "  nCelulas(total)\n",
        "\n"
      ],
      "execution_count": 8,
      "outputs": [
        {
          "output_type": "stream",
          "name": "stdout",
          "text": [
            "\n",
            "\n"
          ]
        }
      ]
    }
  ]
}