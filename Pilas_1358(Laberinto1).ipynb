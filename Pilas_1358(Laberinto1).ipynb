{
  "nbformat": 4,
  "nbformat_minor": 0,
  "metadata": {
    "colab": {
      "name": "Pilas_1358.ipynb",
      "provenance": [],
      "authorship_tag": "ABX9TyOtQkdJL/bIL5KHMZrvAHFN",
      "include_colab_link": true
    },
    "kernelspec": {
      "name": "python3",
      "display_name": "Python 3"
    },
    "language_info": {
      "name": "python"
    }
  },
  "cells": [
    {
      "cell_type": "markdown",
      "metadata": {
        "id": "view-in-github",
        "colab_type": "text"
      },
      "source": [
        "<a href=\"https://colab.research.google.com/github/AngelN601/AngelN601/blob/main/Pilas_1358(Laberinto1).ipynb\" target=\"_parent\"><img src=\"https://colab.research.google.com/assets/colab-badge.svg\" alt=\"Open In Colab\"/></a>"
      ]
    },
    {
      "cell_type": "code",
      "metadata": {
        "id": "tdVWTTgDTUfD"
      },
      "source": [
        "class StackADT:\n",
        "  def __init__( self ):\n",
        "    self.data = list()\n",
        "    self.tope = 0\n",
        "\n",
        "  def is_empty( self ):\n",
        "    return self.tope == 0\n",
        "\n",
        "  def length(  self ):\n",
        "    return self.tope \n",
        "\n",
        "  def pop( self ):\n",
        "    if not self.is_empty():\n",
        "      self.tope -= 1\n",
        "      return self.data.pop()\n",
        "    \n",
        "\n",
        "  def peek( self ):\n",
        "    return self.data[ self.tope - 1 ]\n",
        "\n",
        "  def push( self, value ):\n",
        "    self.data.append( value )\n",
        "    self.tope += 1\n",
        "\n",
        "  def to_string( self ):\n",
        "    print(\"Estado de la pila es:\")\n",
        "    for elem in self.data[ : : -1]:\n",
        "      print(f\" |  { elem }  |\")  "
      ],
      "execution_count": 37,
      "outputs": []
    },
    {
      "cell_type": "code",
      "metadata": {
        "colab": {
          "base_uri": "https://localhost:8080/"
        },
        "id": "NnRug3JQYHTV",
        "outputId": "ae933a9f-8b55-4153-efe4-8db1d37bca33"
      },
      "source": [
        "pila = StackADT()\n",
        "pila.push( 10 )\n",
        "pila.push( 20 )\n",
        "pila.push( 30 )\n",
        "pila.to_string()\n",
        "\n",
        "print( \"Llamada a peek\", pila.peek() )\n",
        "\n",
        "print( \"Llamada a pop\", pila.pop() )\n",
        "pila.to_string()\n",
        "pila.push( 25 )\n",
        "pila.push( 26 )\n",
        "print(\" Despues del 25 y 26\")\n",
        "pila.to_string()\n",
        "print(f\"La pila tienen {pila.length() } elementos\")\n",
        "pila.pop()\n",
        "pila.pop()\n",
        "pila.pop()\n",
        "pila.pop()\n",
        "print(f\"La pila tienen {pila.length() } elementos\")"
      ],
      "execution_count": 38,
      "outputs": [
        {
          "output_type": "stream",
          "name": "stdout",
          "text": [
            "Estado de la pila es:\n",
            " |  30  |\n",
            " |  20  |\n",
            " |  10  |\n",
            "Llamada a peek 30\n",
            "Llamada a pop 30\n",
            "Estado de la pila es:\n",
            " |  20  |\n",
            " |  10  |\n",
            " Despues del 25 y 26\n",
            "Estado de la pila es:\n",
            " |  26  |\n",
            " |  25  |\n",
            " |  20  |\n",
            " |  10  |\n",
            "La pila tienen 4 elementos\n",
            "La pila tienen 0 elementos\n"
          ]
        }
      ]
    },
    {
      "cell_type": "code",
      "metadata": {
        "id": "zyyvSeDZe1zu"
      },
      "source": [
        "class Array2D():\n",
        "  def __init__(self, ren, col):\n",
        "    self.__columnas = col\n",
        "    self.__renglones = ren\n",
        "    self.__data = [[ 0 for i in range(col)]for i in range (ren)]\n",
        "\n",
        "  def to_string(self):\n",
        "    for i in range(self.__renglones):\n",
        "      print(self.__data[i])\n",
        "\n",
        "  def clear(self, dato):\n",
        "    for i in range (self.__renglones):\n",
        "      for x in range(self.__columnas):\n",
        "        self.__data[i][x] = dato\n",
        "\n",
        "  def get_row_size(self):\n",
        "    return self.__renglones\n",
        "\n",
        "  def get_col_size(self):\n",
        "    return self.__columnas\n",
        "\n",
        "  def set_item(self,ren,col,dato):\n",
        "    self.__data[ren][col] = dato\n",
        "\n",
        "  def get_item(self,ren,col):\n",
        "    return self.__data[ren][col]"
      ],
      "execution_count": 39,
      "outputs": []
    },
    {
      "cell_type": "code",
      "metadata": {
        "id": "OCZzqDugqeKN"
      },
      "source": [
        "class LaberintoADT:\n",
        "  def __init__(self , archivo ):\n",
        "    self.laberinto = None  #Array 2D\n",
        "    self.camino = StackADT()\n",
        "    self.inicializa( archivo )\n",
        "    self.laberinto.to_string()\n",
        "    print(\"Stack\")\n",
        "    self.camino.to_string()\n",
        "\n",
        "  \"\"\"\n",
        "  P -> Pared\n",
        "  C -> Corredor\n",
        "  E -> Entrada\n",
        "  S -> Salida\n",
        "  X -> Ya visitado\n",
        "  \"\"\"\n",
        "  def inicializa( self , archivo):\n",
        "    entrada = open( archivo , 'rt' )\n",
        "    self.laberinto = Array2D( int(entrada.readline().strip() ) , int(entrada.readline().strip() ) )  #strip quita salto de linea(renglon y columna)\n",
        "    self.laberinto.clear('P')\n",
        "    lineas = entrada.readlines()\n",
        "    #print(\"Lineas:\")\n",
        "    #print(lineas)\n",
        "    for r in range( len(lineas)):\n",
        "      lineaBis = lineas[r].strip().split(',')\n",
        "      for c in range( len(lineaBis) ) :    #split lo hace lista \n",
        "        self.laberinto.set_item(r,c,lineaBis[c])\n",
        "\n",
        "    #Buscar la entrada\n",
        "    for r in range( self.laberinto.get_row_size() ):\n",
        "      for c in range( self.laberinto.get_col_size() ):\n",
        "        if self.laberinto.get_item(r,c) == 'E':\n",
        "          self.camino.push ( (r,c) )     \n",
        "\n",
        "\n"
      ],
      "execution_count": 50,
      "outputs": []
    },
    {
      "cell_type": "code",
      "metadata": {
        "colab": {
          "base_uri": "https://localhost:8080/"
        },
        "id": "7M2wxWoXt8Wl",
        "outputId": "13f9fb7e-746f-4492-9157-1fba7401e17d"
      },
      "source": [
        "juego = LaberintoADT('entrada.txt')"
      ],
      "execution_count": 51,
      "outputs": [
        {
          "output_type": "stream",
          "name": "stdout",
          "text": [
            "['P', 'P', 'P', 'P', 'P']\n",
            "['P', 'P', 'C', 'C', 'S']\n",
            "['P', 'C', 'C', 'P', 'P']\n",
            "['P', 'P', 'C', 'P', 'P']\n",
            "['P', 'P', 'E', 'P', 'P']\n",
            "Stack\n",
            "Estado de la pila es:\n",
            " |  (4, 2)  |\n"
          ]
        }
      ]
    }
  ]
}